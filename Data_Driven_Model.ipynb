{
  "cells": [
    {
      "cell_type": "markdown",
      "metadata": {
        "id": "9f8rIb1E6dQS"
      },
      "source": [
        "\n",
        "# **Data Description**"
      ]
    },
    {
      "attachments": {},
      "cell_type": "markdown",
      "metadata": {},
      "source": [
        "The dataset selected for this project is sourced from the Therapeutic Target Database, a publicly available database that provides information on chemical compounds with potential therapeutic effects. This comprehensive database includes details on therapeutic targets, encompassing enzymes, receptors, and structural proteins associated with a range of diseases such as cancer, neurologic diseases, metabolic diseases, and others. The information within this database serves various purposes, including facilitating drug design with the aim of achieving positive therapeutic outcomes.\n",
        "\n",
        "The Therapeutic Target Database is an extensive collection of data available in the form of smaller, more focused subsets. One such subset is the \"Biomarker to disease mapping with ICD identifiers.\" This particular subset specifically focuses on the relationship between biomarkers and diseases, along with their identification symbols. Biomarkers refer to specific biological characteristics, such as proteins, genes, or other factors, that can be measured within the body and serve as indicators of health or disease. The dataset includes the biomarker's identifier and name, as well as the associated disease's name and disease identifier derived from the last three versions of the International Classification of Diseases (ICD)."
      ]
    },
    {
      "attachments": {},
      "cell_type": "markdown",
      "metadata": {},
      "source": [
        "# Import packages, read and present raw data"
      ]
    },
    {
      "cell_type": "code",
      "execution_count": 79,
      "metadata": {
        "id": "uY1dExPehLAq"
      },
      "outputs": [],
      "source": [
        "import pandas as pd\n",
        "import numpy as np\n",
        "import matplotlib.pyplot as plt\n",
        "from sklearn.model_selection import train_test_split\n",
        "from sklearn.preprocessing import StandardScaler\n",
        "from keras.models import Sequential\n",
        "from keras.layers import Dense\n",
        "from sklearn.ensemble import RandomForestClassifier\n",
        "from sklearn.metrics import accuracy_score\n",
        "from sklearn.svm import SVC\n",
        "from sklearn.naive_bayes import MultinomialNB\n",
        "from sklearn.linear_model import SGDClassifier\n",
        "from sklearn.neighbors import KNeighborsClassifier\n",
        "from sklearn.svm import LinearSVC\n"
      ]
    },
    {
      "cell_type": "code",
      "execution_count": 80,
      "metadata": {},
      "outputs": [
        {
          "data": {
            "text/html": [
              "<div>\n",
              "<style scoped>\n",
              "    .dataframe tbody tr th:only-of-type {\n",
              "        vertical-align: middle;\n",
              "    }\n",
              "\n",
              "    .dataframe tbody tr th {\n",
              "        vertical-align: top;\n",
              "    }\n",
              "\n",
              "    .dataframe thead th {\n",
              "        text-align: right;\n",
              "    }\n",
              "</style>\n",
              "<table border=\"1\" class=\"dataframe\">\n",
              "  <thead>\n",
              "    <tr style=\"text-align: right;\">\n",
              "      <th></th>\n",
              "      <th>BiomarkerID</th>\n",
              "      <th>Biomarker_Name</th>\n",
              "      <th>Diseasename</th>\n",
              "      <th>ICD11</th>\n",
              "      <th>ICD10</th>\n",
              "      <th>ICD9</th>\n",
              "    </tr>\n",
              "  </thead>\n",
              "  <tbody>\n",
              "    <tr>\n",
              "      <th>0</th>\n",
              "      <td>BM003549</td>\n",
              "      <td>Neutrophil gelatinase-associated lipocalin (LCN2)</td>\n",
              "      <td>Smallpox</td>\n",
              "      <td>ICD-11: 1E70</td>\n",
              "      <td>ICD-10: B03</td>\n",
              "      <td>.</td>\n",
              "    </tr>\n",
              "    <tr>\n",
              "      <th>1</th>\n",
              "      <td>BM002188</td>\n",
              "      <td>Monocyte chemoattractantprotein-1 (MCP-1)</td>\n",
              "      <td>Amyotrophic lateral sclerosis</td>\n",
              "      <td>ICD-11: 8B60.0</td>\n",
              "      <td>.</td>\n",
              "      <td>ICD-9: 335.2</td>\n",
              "    </tr>\n",
              "    <tr>\n",
              "      <th>2</th>\n",
              "      <td>BM001695</td>\n",
              "      <td>HLA class I histocompatibility antigen, B-8 al...</td>\n",
              "      <td>Myasthenia gravis</td>\n",
              "      <td>ICD-11: 8C6Y</td>\n",
              "      <td>ICD-10: G70.0</td>\n",
              "      <td>ICD-9: 358</td>\n",
              "    </tr>\n",
              "    <tr>\n",
              "      <th>3</th>\n",
              "      <td>BM000711</td>\n",
              "      <td>Muscle-specific kinase (MuSK) antibody</td>\n",
              "      <td>Myasthenia gravis</td>\n",
              "      <td>ICD-11: 8C6Y</td>\n",
              "      <td>ICD-10: G70.0</td>\n",
              "      <td>ICD-9: 358</td>\n",
              "    </tr>\n",
              "    <tr>\n",
              "      <th>4</th>\n",
              "      <td>BM002220</td>\n",
              "      <td>Muscle-specific kinase (MuSK) antibody</td>\n",
              "      <td>Myasthenia gravis</td>\n",
              "      <td>ICD-11: 8C6Y</td>\n",
              "      <td>ICD-10: G70.0</td>\n",
              "      <td>ICD-9: 358</td>\n",
              "    </tr>\n",
              "    <tr>\n",
              "      <th>...</th>\n",
              "      <td>...</td>\n",
              "      <td>...</td>\n",
              "      <td>...</td>\n",
              "      <td>...</td>\n",
              "      <td>...</td>\n",
              "      <td>...</td>\n",
              "    </tr>\n",
              "    <tr>\n",
              "      <th>2507</th>\n",
              "      <td>BM003242</td>\n",
              "      <td>von Willebrand factor (VWF)</td>\n",
              "      <td>Dengue</td>\n",
              "      <td>ICD-11: 1D20-1D2Z</td>\n",
              "      <td>ICD-10: A90, R50</td>\n",
              "      <td>.</td>\n",
              "    </tr>\n",
              "    <tr>\n",
              "      <th>2508</th>\n",
              "      <td>BM002995</td>\n",
              "      <td>von Willebrand factor (VWF)</td>\n",
              "      <td>Peripheral arterial disease</td>\n",
              "      <td>ICD-11: BD4Z</td>\n",
              "      <td>ICD-10: I73, I73.9</td>\n",
              "      <td>ICD-9: 443</td>\n",
              "    </tr>\n",
              "    <tr>\n",
              "      <th>2509</th>\n",
              "      <td>BM002998</td>\n",
              "      <td>von Willebrand factor (VWF)</td>\n",
              "      <td>Osteoarthritis</td>\n",
              "      <td>ICD-11: FA00-FA05</td>\n",
              "      <td>.</td>\n",
              "      <td>ICD-9: 715</td>\n",
              "    </tr>\n",
              "    <tr>\n",
              "      <th>2510</th>\n",
              "      <td>BM000050</td>\n",
              "      <td>Wnt-5a protein (WNT5A)</td>\n",
              "      <td>Breast cancer</td>\n",
              "      <td>ICD-11: 2C60-2C65</td>\n",
              "      <td>ICD-10: C50</td>\n",
              "      <td>.</td>\n",
              "    </tr>\n",
              "    <tr>\n",
              "      <th>2511</th>\n",
              "      <td>BM003018</td>\n",
              "      <td>Zinc finger protein ZPR1 (ZPR1)</td>\n",
              "      <td>Coronary artery disease</td>\n",
              "      <td>ICD-11: BA80</td>\n",
              "      <td>ICD-10: I25.1, I25.4</td>\n",
              "      <td>.</td>\n",
              "    </tr>\n",
              "  </tbody>\n",
              "</table>\n",
              "<p>2512 rows × 6 columns</p>\n",
              "</div>"
            ],
            "text/plain": [
              "     BiomarkerID                                     Biomarker_Name   \n",
              "0       BM003549  Neutrophil gelatinase-associated lipocalin (LCN2)  \\\n",
              "1       BM002188          Monocyte chemoattractantprotein-1 (MCP-1)   \n",
              "2       BM001695  HLA class I histocompatibility antigen, B-8 al...   \n",
              "3       BM000711             Muscle-specific kinase (MuSK) antibody   \n",
              "4       BM002220             Muscle-specific kinase (MuSK) antibody   \n",
              "...          ...                                                ...   \n",
              "2507    BM003242                        von Willebrand factor (VWF)   \n",
              "2508    BM002995                        von Willebrand factor (VWF)   \n",
              "2509    BM002998                        von Willebrand factor (VWF)   \n",
              "2510    BM000050                             Wnt-5a protein (WNT5A)   \n",
              "2511    BM003018                    Zinc finger protein ZPR1 (ZPR1)   \n",
              "\n",
              "                        Diseasename              ICD11                 ICD10   \n",
              "0                          Smallpox       ICD-11: 1E70           ICD-10: B03  \\\n",
              "1     Amyotrophic lateral sclerosis     ICD-11: 8B60.0                     .   \n",
              "2                 Myasthenia gravis       ICD-11: 8C6Y         ICD-10: G70.0   \n",
              "3                 Myasthenia gravis       ICD-11: 8C6Y         ICD-10: G70.0   \n",
              "4                 Myasthenia gravis       ICD-11: 8C6Y         ICD-10: G70.0   \n",
              "...                             ...                ...                   ...   \n",
              "2507                         Dengue  ICD-11: 1D20-1D2Z      ICD-10: A90, R50   \n",
              "2508    Peripheral arterial disease       ICD-11: BD4Z    ICD-10: I73, I73.9   \n",
              "2509                 Osteoarthritis  ICD-11: FA00-FA05                     .   \n",
              "2510                  Breast cancer  ICD-11: 2C60-2C65           ICD-10: C50   \n",
              "2511        Coronary artery disease       ICD-11: BA80  ICD-10: I25.1, I25.4   \n",
              "\n",
              "              ICD9  \n",
              "0                .  \n",
              "1     ICD-9: 335.2  \n",
              "2       ICD-9: 358  \n",
              "3       ICD-9: 358  \n",
              "4       ICD-9: 358  \n",
              "...            ...  \n",
              "2507             .  \n",
              "2508    ICD-9: 443  \n",
              "2509    ICD-9: 715  \n",
              "2510             .  \n",
              "2511             .  \n",
              "\n",
              "[2512 rows x 6 columns]"
            ]
          },
          "metadata": {},
          "output_type": "display_data"
        }
      ],
      "source": [
        "data = pd.read_csv('csv/P1-08-Biomarker_disease.txt', delimiter='\\t')\n",
        "display(data)"
      ]
    },
    {
      "cell_type": "code",
      "execution_count": 81,
      "metadata": {},
      "outputs": [
        {
          "data": {
            "text/html": [
              "<div>\n",
              "<style scoped>\n",
              "    .dataframe tbody tr th:only-of-type {\n",
              "        vertical-align: middle;\n",
              "    }\n",
              "\n",
              "    .dataframe tbody tr th {\n",
              "        vertical-align: top;\n",
              "    }\n",
              "\n",
              "    .dataframe thead th {\n",
              "        text-align: right;\n",
              "    }\n",
              "</style>\n",
              "<table border=\"1\" class=\"dataframe\">\n",
              "  <thead>\n",
              "    <tr style=\"text-align: right;\">\n",
              "      <th></th>\n",
              "      <th>BiomarkerID</th>\n",
              "      <th>Biomarker_Name</th>\n",
              "      <th>Diseasename</th>\n",
              "      <th>ICD11</th>\n",
              "      <th>ICD10</th>\n",
              "      <th>ICD9</th>\n",
              "    </tr>\n",
              "  </thead>\n",
              "  <tbody>\n",
              "    <tr>\n",
              "      <th>count</th>\n",
              "      <td>2512</td>\n",
              "      <td>2512</td>\n",
              "      <td>2512</td>\n",
              "      <td>2512</td>\n",
              "      <td>2512</td>\n",
              "      <td>2512</td>\n",
              "    </tr>\n",
              "    <tr>\n",
              "      <th>unique</th>\n",
              "      <td>2512</td>\n",
              "      <td>1318</td>\n",
              "      <td>167</td>\n",
              "      <td>145</td>\n",
              "      <td>83</td>\n",
              "      <td>90</td>\n",
              "    </tr>\n",
              "    <tr>\n",
              "      <th>top</th>\n",
              "      <td>BM003549</td>\n",
              "      <td>Interleukin-6 (IL6)</td>\n",
              "      <td>Parkinson disease</td>\n",
              "      <td>ICD-11: 8A00.0</td>\n",
              "      <td>.</td>\n",
              "      <td>.</td>\n",
              "    </tr>\n",
              "    <tr>\n",
              "      <th>freq</th>\n",
              "      <td>1</td>\n",
              "      <td>48</td>\n",
              "      <td>153</td>\n",
              "      <td>153</td>\n",
              "      <td>1143</td>\n",
              "      <td>1041</td>\n",
              "    </tr>\n",
              "  </tbody>\n",
              "</table>\n",
              "</div>"
            ],
            "text/plain": [
              "       BiomarkerID       Biomarker_Name        Diseasename           ICD11   \n",
              "count         2512                 2512               2512            2512  \\\n",
              "unique        2512                 1318                167             145   \n",
              "top       BM003549  Interleukin-6 (IL6)  Parkinson disease  ICD-11: 8A00.0   \n",
              "freq             1                   48                153             153   \n",
              "\n",
              "       ICD10  ICD9  \n",
              "count   2512  2512  \n",
              "unique    83    90  \n",
              "top        .     .  \n",
              "freq    1143  1041  "
            ]
          },
          "metadata": {},
          "output_type": "display_data"
        }
      ],
      "source": [
        "# Display summary statistics.\n",
        "display(data.describe())"
      ]
    },
    {
      "cell_type": "markdown",
      "metadata": {
        "id": "ZYY0zY7l60al"
      },
      "source": [
        "# **Justification for the property I you would like the model to predict**"
      ]
    },
    {
      "attachments": {},
      "cell_type": "markdown",
      "metadata": {},
      "source": [
        "In this analysis, an attempt will be made to predict the type of disease on the basis of an associated biomarker. In such a task, the name of the disease is at the same time the category to which biomarkers with a unique ID should be assigned. This task may prove difficult due to the large number of different categories (167) may affect the quality of the predictions."
      ]
    },
    {
      "cell_type": "markdown",
      "metadata": {
        "id": "OeanY09K69Le"
      },
      "source": [
        "# **Cleaning the data, linking datasets**"
      ]
    },
    {
      "attachments": {},
      "cell_type": "markdown",
      "metadata": {},
      "source": [
        "Since the data is stored in a txt file and the individual columns are separated by a tab character, the appropriate delimiter was used when reading the data from the file, using the pandas.read_csv() function. Apart from this, no further cleaning of the dataset was necessary. "
      ]
    },
    {
      "attachments": {},
      "cell_type": "markdown",
      "metadata": {
        "id": "QOZ3KnxR7QCs"
      },
      "source": [
        "# **Choose and train Estimator and Evaluate model**"
      ]
    },
    {
      "attachments": {},
      "cell_type": "markdown",
      "metadata": {},
      "source": [
        "A sequential neural network model with two dense layers with ReLU activation functions and a final dense layer with a softmax activation function will be used first, as it can be used for the classification we are dealing with here, and then its performance will be compared with other models to find the best one."
      ]
    },
    {
      "cell_type": "code",
      "execution_count": 82,
      "metadata": {
        "id": "WxOtxpYLhM05"
      },
      "outputs": [
        {
          "name": "stdout",
          "output_type": "stream",
          "text": [
            "Epoch 1/50\n",
            "63/63 [==============================] - 8s 47ms/step - loss: 4.9416 - accuracy: 0.0413 - val_loss: 4.3684 - val_accuracy: 0.0954\n",
            "Epoch 2/50\n",
            "63/63 [==============================] - 2s 26ms/step - loss: 3.6974 - accuracy: 0.1901 - val_loss: 3.0559 - val_accuracy: 0.2763\n",
            "Epoch 3/50\n",
            "63/63 [==============================] - 1s 23ms/step - loss: 2.4723 - accuracy: 0.4171 - val_loss: 2.1798 - val_accuracy: 0.4990\n",
            "Epoch 4/50\n",
            "63/63 [==============================] - 2s 32ms/step - loss: 1.5729 - accuracy: 0.6690 - val_loss: 1.5819 - val_accuracy: 0.6541\n",
            "Epoch 5/50\n",
            "63/63 [==============================] - 2s 25ms/step - loss: 1.0108 - accuracy: 0.7934 - val_loss: 1.2859 - val_accuracy: 0.7416\n",
            "Epoch 6/50\n",
            "63/63 [==============================] - 2s 24ms/step - loss: 0.6813 - accuracy: 0.8706 - val_loss: 1.1163 - val_accuracy: 0.7853\n",
            "Epoch 7/50\n",
            "63/63 [==============================] - 2s 27ms/step - loss: 0.4798 - accuracy: 0.9094 - val_loss: 1.0169 - val_accuracy: 0.8012\n",
            "Epoch 8/50\n",
            "63/63 [==============================] - 2s 27ms/step - loss: 0.3507 - accuracy: 0.9348 - val_loss: 0.9834 - val_accuracy: 0.8191\n",
            "Epoch 9/50\n",
            "63/63 [==============================] - 2s 31ms/step - loss: 0.2643 - accuracy: 0.9537 - val_loss: 0.9620 - val_accuracy: 0.8330\n",
            "Epoch 10/50\n",
            "63/63 [==============================] - 2s 31ms/step - loss: 0.2012 - accuracy: 0.9671 - val_loss: 0.9907 - val_accuracy: 0.8211\n",
            "Epoch 11/50\n",
            "63/63 [==============================] - 1s 23ms/step - loss: 0.1558 - accuracy: 0.9756 - val_loss: 0.9591 - val_accuracy: 0.8350\n",
            "Epoch 12/50\n",
            "63/63 [==============================] - 1s 23ms/step - loss: 0.1212 - accuracy: 0.9811 - val_loss: 1.0117 - val_accuracy: 0.8330\n",
            "Epoch 13/50\n",
            "63/63 [==============================] - 1s 22ms/step - loss: 0.0947 - accuracy: 0.9866 - val_loss: 1.0061 - val_accuracy: 0.8290\n",
            "Epoch 14/50\n",
            "63/63 [==============================] - 1s 23ms/step - loss: 0.0753 - accuracy: 0.9910 - val_loss: 1.0223 - val_accuracy: 0.8350\n",
            "Epoch 15/50\n",
            "63/63 [==============================] - 2s 38ms/step - loss: 0.0601 - accuracy: 0.9935 - val_loss: 1.0412 - val_accuracy: 0.8410\n",
            "Epoch 16/50\n",
            "63/63 [==============================] - 1s 23ms/step - loss: 0.0482 - accuracy: 0.9950 - val_loss: 1.0556 - val_accuracy: 0.8310\n",
            "Epoch 17/50\n",
            "63/63 [==============================] - 1s 20ms/step - loss: 0.0392 - accuracy: 0.9955 - val_loss: 1.0728 - val_accuracy: 0.8310\n",
            "Epoch 18/50\n",
            "63/63 [==============================] - 2s 24ms/step - loss: 0.0323 - accuracy: 0.9970 - val_loss: 1.0912 - val_accuracy: 0.8330\n",
            "Epoch 19/50\n",
            "63/63 [==============================] - 1s 19ms/step - loss: 0.0266 - accuracy: 0.9975 - val_loss: 1.1081 - val_accuracy: 0.8330\n",
            "Epoch 20/50\n",
            "63/63 [==============================] - 1s 17ms/step - loss: 0.0222 - accuracy: 0.9975 - val_loss: 1.1321 - val_accuracy: 0.8290\n",
            "Epoch 21/50\n",
            "63/63 [==============================] - 1s 15ms/step - loss: 0.0191 - accuracy: 0.9980 - val_loss: 1.1338 - val_accuracy: 0.8330\n",
            "Epoch 22/50\n",
            "63/63 [==============================] - 1s 16ms/step - loss: 0.0168 - accuracy: 0.9985 - val_loss: 1.1493 - val_accuracy: 0.8270\n",
            "Epoch 23/50\n",
            "63/63 [==============================] - 1s 15ms/step - loss: 0.0147 - accuracy: 0.9985 - val_loss: 1.1583 - val_accuracy: 0.8290\n",
            "Epoch 24/50\n",
            "63/63 [==============================] - 1s 23ms/step - loss: 0.0130 - accuracy: 0.9985 - val_loss: 1.1658 - val_accuracy: 0.8250\n",
            "Epoch 25/50\n",
            "63/63 [==============================] - 1s 16ms/step - loss: 0.0118 - accuracy: 0.9990 - val_loss: 1.1704 - val_accuracy: 0.8290\n",
            "Epoch 26/50\n",
            "63/63 [==============================] - 1s 19ms/step - loss: 0.0107 - accuracy: 0.9990 - val_loss: 1.1858 - val_accuracy: 0.8250\n",
            "Epoch 27/50\n",
            "63/63 [==============================] - 1s 18ms/step - loss: 0.0098 - accuracy: 0.9990 - val_loss: 1.1873 - val_accuracy: 0.8231\n",
            "Epoch 28/50\n",
            "63/63 [==============================] - 1s 19ms/step - loss: 0.0090 - accuracy: 0.9990 - val_loss: 1.2063 - val_accuracy: 0.8231\n",
            "Epoch 29/50\n",
            "63/63 [==============================] - 1s 23ms/step - loss: 0.0083 - accuracy: 0.9990 - val_loss: 1.2021 - val_accuracy: 0.8231\n",
            "Epoch 30/50\n",
            "63/63 [==============================] - 1s 22ms/step - loss: 0.0077 - accuracy: 0.9990 - val_loss: 1.2138 - val_accuracy: 0.8231\n",
            "Epoch 31/50\n",
            "63/63 [==============================] - 2s 28ms/step - loss: 0.0071 - accuracy: 0.9990 - val_loss: 1.2198 - val_accuracy: 0.8231\n",
            "Epoch 32/50\n",
            "63/63 [==============================] - 2s 24ms/step - loss: 0.0066 - accuracy: 0.9990 - val_loss: 1.2306 - val_accuracy: 0.8211\n",
            "Epoch 33/50\n",
            "63/63 [==============================] - 1s 17ms/step - loss: 0.0060 - accuracy: 0.9990 - val_loss: 1.2492 - val_accuracy: 0.8211\n",
            "Epoch 34/50\n",
            "63/63 [==============================] - 1s 16ms/step - loss: 0.0056 - accuracy: 0.9990 - val_loss: 1.2450 - val_accuracy: 0.8211\n",
            "Epoch 35/50\n",
            "63/63 [==============================] - 1s 20ms/step - loss: 0.0051 - accuracy: 0.9995 - val_loss: 1.2581 - val_accuracy: 0.8211\n",
            "Epoch 36/50\n",
            "63/63 [==============================] - 1s 17ms/step - loss: 0.0046 - accuracy: 0.9995 - val_loss: 1.2717 - val_accuracy: 0.8191\n",
            "Epoch 37/50\n",
            "63/63 [==============================] - 1s 18ms/step - loss: 0.0041 - accuracy: 0.9995 - val_loss: 1.2680 - val_accuracy: 0.8191\n",
            "Epoch 38/50\n",
            "63/63 [==============================] - 1s 18ms/step - loss: 0.0037 - accuracy: 1.0000 - val_loss: 1.2782 - val_accuracy: 0.8191\n",
            "Epoch 39/50\n",
            "63/63 [==============================] - 1s 18ms/step - loss: 0.0032 - accuracy: 1.0000 - val_loss: 1.2752 - val_accuracy: 0.8191\n",
            "Epoch 40/50\n",
            "63/63 [==============================] - 1s 18ms/step - loss: 0.0028 - accuracy: 1.0000 - val_loss: 1.2785 - val_accuracy: 0.8191\n",
            "Epoch 41/50\n",
            "63/63 [==============================] - 1s 17ms/step - loss: 0.0025 - accuracy: 1.0000 - val_loss: 1.2863 - val_accuracy: 0.8191\n",
            "Epoch 42/50\n",
            "63/63 [==============================] - 1s 16ms/step - loss: 0.0022 - accuracy: 1.0000 - val_loss: 1.2917 - val_accuracy: 0.8191\n",
            "Epoch 43/50\n",
            "63/63 [==============================] - 1s 17ms/step - loss: 0.0020 - accuracy: 1.0000 - val_loss: 1.3016 - val_accuracy: 0.8191\n",
            "Epoch 44/50\n",
            "63/63 [==============================] - 1s 15ms/step - loss: 0.0018 - accuracy: 1.0000 - val_loss: 1.2999 - val_accuracy: 0.8191\n",
            "Epoch 45/50\n",
            "63/63 [==============================] - 1s 16ms/step - loss: 0.0016 - accuracy: 1.0000 - val_loss: 1.2987 - val_accuracy: 0.8191\n",
            "Epoch 46/50\n",
            "63/63 [==============================] - 2s 27ms/step - loss: 0.0015 - accuracy: 1.0000 - val_loss: 1.3047 - val_accuracy: 0.8211\n",
            "Epoch 47/50\n",
            "63/63 [==============================] - 1s 17ms/step - loss: 0.0014 - accuracy: 1.0000 - val_loss: 1.3074 - val_accuracy: 0.8211\n",
            "Epoch 48/50\n",
            "63/63 [==============================] - 1s 18ms/step - loss: 0.0013 - accuracy: 1.0000 - val_loss: 1.3130 - val_accuracy: 0.8211\n",
            "Epoch 49/50\n",
            "63/63 [==============================] - 1s 16ms/step - loss: 0.0012 - accuracy: 1.0000 - val_loss: 1.3170 - val_accuracy: 0.8211\n",
            "Epoch 50/50\n",
            "63/63 [==============================] - 1s 17ms/step - loss: 0.0011 - accuracy: 1.0000 - val_loss: 1.3217 - val_accuracy: 0.8211\n",
            "16/16 [==============================] - 0s 7ms/step - loss: 1.3217 - accuracy: 0.8211\n",
            "Model accuracy: 0.8210735321044922\n"
          ]
        }
      ],
      "source": [
        "# Convert variables to numerical values so that they can be used as input to the model\n",
        "X = pd.get_dummies(data.drop('Diseasename', axis=1))\n",
        "y = pd.get_dummies(data['Diseasename'])\n",
        "\n",
        "# Split the data into training and testing \n",
        "X_train, X_test, y_train, y_test = train_test_split(X, y, test_size=0.2)\n",
        "\n",
        "# Scale the features to have mean=0 and variance=1 to improve stability and speed of the training process\n",
        "scaler = StandardScaler()\n",
        "X_train = scaler.fit_transform(X_train)\n",
        "X_test = scaler.transform(X_test)\n",
        "\n",
        "# Define the neural network and compile the model\n",
        "model = Sequential()\n",
        "model.add(Dense(32, input_shape=(X_train.shape[1],), activation='relu'))\n",
        "model.add(Dense(16, activation='relu'))\n",
        "model.add(Dense(y_train.shape[1], activation='softmax'))\n",
        "\n",
        "model.compile(loss='categorical_crossentropy', optimizer='adam', metrics=['accuracy'])\n",
        "\n",
        "# Train the model and store history to be plotted\n",
        "history = model.fit(X_train, y_train, epochs=50, batch_size=32, validation_data=(X_test, y_test))\n",
        "\n",
        "# Evaluate the model's performance\n",
        "loss, accuracy = model.evaluate(X_test, y_test)\n",
        "print(\"Model accuracy:\", accuracy)\n"
      ]
    },
    {
      "cell_type": "code",
      "execution_count": 83,
      "metadata": {},
      "outputs": [
        {
          "data": {
            "image/png": "[encoded data removed]",
            "text/plain": [
              "<Figure size 640x480 with 1 Axes>"
            ]
          },
          "metadata": {},
          "output_type": "display_data"
        }
      ],
      "source": [
        "# Plot the accuracy over the epochs\n",
        "plt.plot(history.history['accuracy'])\n",
        "plt.plot(history.history['val_accuracy'])\n",
        "plt.title('Model Accuracy')\n",
        "plt.ylabel('Accuracy')\n",
        "plt.xlabel('Epoch')\n",
        "plt.legend(['train', 'test'], loc='upper left')\n",
        "plt.show()"
      ]
    },
    {
      "attachments": {},
      "cell_type": "markdown",
      "metadata": {},
      "source": [
        "The model improves for the first ten epochs and then stabilises at just over 80 per cent, which could mean that the model has learned to capture the important patterns in the training data and generalize well to the validation data. An accuracy of 81.1% is decent but it is to be expected that a different model might have produced a slightly better result.\n",
        "\n",
        "Additional models will therefore now be applied and the results compared. The most suitable for this type of data will be the use of classification models for labelled data, and the following shows the use of these models and outputs the accuracy of each."
      ]
    },
    {
      "attachments": {},
      "cell_type": "markdown",
      "metadata": {},
      "source": [
        "# KNeighbors Classifier"
      ]
    },
    {
      "cell_type": "code",
      "execution_count": 84,
      "metadata": {},
      "outputs": [
        {
          "name": "stdout",
          "output_type": "stream",
          "text": [
            "Model accuracy:  0.705765407554672\n"
          ]
        }
      ],
      "source": [
        "X = pd.get_dummies(data.drop('Diseasename', axis=1))\n",
        "y = data['Diseasename']\n",
        "\n",
        "X_train, X_test, y_train, y_test = train_test_split(X, y, test_size=0.2, random_state=42)\n",
        "\n",
        "scaler = StandardScaler()\n",
        "X_train = scaler.fit_transform(X_train)\n",
        "X_test = scaler.transform(X_test)\n",
        "\n",
        "model = KNeighborsClassifier(n_neighbors=5)\n",
        "model.fit(X_train, y_train)\n",
        "\n",
        "y_pred = model.predict(X_test)\n",
        "\n",
        "accuracy = accuracy_score(y_test, y_pred)\n",
        "print(\"Model accuracy: \", accuracy)"
      ]
    },
    {
      "attachments": {},
      "cell_type": "markdown",
      "metadata": {},
      "source": [
        "# SGD Classifier"
      ]
    },
    {
      "cell_type": "code",
      "execution_count": 85,
      "metadata": {},
      "outputs": [
        {
          "name": "stdout",
          "output_type": "stream",
          "text": [
            "Model accuracy:  0.9662027833001988\n"
          ]
        }
      ],
      "source": [
        "X = pd.get_dummies(data.drop('Diseasename', axis=1))\n",
        "y = data['Diseasename']\n",
        "\n",
        "X_train, X_test, y_train, y_test = train_test_split(X, y, test_size=0.2, random_state=42)\n",
        "\n",
        "scaler = StandardScaler()\n",
        "X_train = scaler.fit_transform(X_train)\n",
        "X_test = scaler.transform(X_test)\n",
        "\n",
        "model = SGDClassifier(loss='log_loss', max_iter=1000, random_state=42)\n",
        "model.fit(X_train, y_train)\n",
        "\n",
        "y_pred = model.predict(X_test)\n",
        "\n",
        "accuracy = accuracy_score(y_test, y_pred)\n",
        "print(\"Model accuracy: \", accuracy)"
      ]
    },
    {
      "attachments": {},
      "cell_type": "markdown",
      "metadata": {},
      "source": [
        "# Naive Bayes"
      ]
    },
    {
      "cell_type": "code",
      "execution_count": 86,
      "metadata": {},
      "outputs": [
        {
          "name": "stdout",
          "output_type": "stream",
          "text": [
            "Model accuracy:  0.8489065606361829\n"
          ]
        }
      ],
      "source": [
        "X = pd.get_dummies(data.drop('Diseasename', axis=1))\n",
        "y = data['Diseasename']\n",
        "\n",
        "X_train, X_test, y_train, y_test = train_test_split(X, y, test_size=0.2, random_state=42)\n",
        "\n",
        "model = MultinomialNB()\n",
        "model.fit(X_train, y_train)\n",
        "\n",
        "y_pred = model.predict(X_test)\n",
        "\n",
        "accuracy = accuracy_score(y_test, y_pred)\n",
        "print(\"Model accuracy: \", accuracy)"
      ]
    },
    {
      "attachments": {},
      "cell_type": "markdown",
      "metadata": {},
      "source": [
        "# SVC"
      ]
    },
    {
      "cell_type": "code",
      "execution_count": 87,
      "metadata": {},
      "outputs": [
        {
          "name": "stdout",
          "output_type": "stream",
          "text": [
            "Model accuracy:  0.9145129224652088\n"
          ]
        }
      ],
      "source": [
        "X = pd.get_dummies(data.drop('Diseasename', axis=1))\n",
        "y = data['Diseasename']\n",
        "\n",
        "X_train, X_test, y_train, y_test = train_test_split(X, y, test_size=0.2, random_state=42)\n",
        "\n",
        "scaler = StandardScaler()\n",
        "X_train_scaled = scaler.fit_transform(X_train)\n",
        "X_test_scaled = scaler.transform(X_test)\n",
        "\n",
        "model = SVC(kernel='linear', C=1, random_state=42)\n",
        "model.fit(X_train_scaled, y_train)\n",
        "\n",
        "y_pred = model.predict(X_test_scaled)\n",
        "\n",
        "accuracy = accuracy_score(y_test, y_pred)\n",
        "print(\"Model accuracy: \", accuracy)"
      ]
    },
    {
      "attachments": {},
      "cell_type": "markdown",
      "metadata": {},
      "source": [
        "# Linear SVC"
      ]
    },
    {
      "cell_type": "code",
      "execution_count": 88,
      "metadata": {},
      "outputs": [
        {
          "name": "stdout",
          "output_type": "stream",
          "text": [
            "Model accuracy:  0.974155069582505\n"
          ]
        }
      ],
      "source": [
        "X = pd.get_dummies(data.drop('Diseasename', axis=1))\n",
        "y = data['Diseasename']\n",
        "\n",
        "X_train, X_test, y_train, y_test = train_test_split(X, y, test_size=0.2, random_state=42)\n",
        "\n",
        "scaler = StandardScaler()\n",
        "X_train = scaler.fit_transform(X_train)\n",
        "X_test = scaler.transform(X_test)\n",
        "\n",
        "model = LinearSVC(random_state=42)\n",
        "model.fit(X_train, y_train)\n",
        "\n",
        "y_pred = model.predict(X_test)\n",
        "\n",
        "accuracy = accuracy_score(y_test, y_pred)\n",
        "print(\"Model accuracy: \", accuracy)"
      ]
    },
    {
      "attachments": {},
      "cell_type": "markdown",
      "metadata": {},
      "source": [
        "# Random Forest Classifier"
      ]
    },
    {
      "cell_type": "code",
      "execution_count": 89,
      "metadata": {},
      "outputs": [
        {
          "name": "stdout",
          "output_type": "stream",
          "text": [
            "Model accuracy:  0.9821073558648111\n"
          ]
        }
      ],
      "source": [
        "X = pd.get_dummies(data.drop('Diseasename', axis=1))\n",
        "y = data['Diseasename']\n",
        "\n",
        "X_train, X_test, y_train, y_test = train_test_split(X, y, test_size=0.2, random_state=42)\n",
        "\n",
        "model = RandomForestClassifier(n_estimators=100)\n",
        "model.fit(X_train, y_train)\n",
        "\n",
        "y_pred = model.predict(X_test)\n",
        "\n",
        "accuracy = accuracy_score(y_test, y_pred)\n",
        "print(\"Model accuracy: \", accuracy)"
      ]
    },
    {
      "cell_type": "markdown",
      "metadata": {
        "id": "4APZXYxS7Yef"
      },
      "source": [
        "# **Presentation of results and Conclusions**"
      ]
    },
    {
      "attachments": {},
      "cell_type": "markdown",
      "metadata": {},
      "source": [
        "In the above analysis, classification models were used to predict which disease might be associated with which biomarker. As we can see, most of the classification models for this dataset performed well or even excellent, with the Random Forest Classifier model being the best. The results could, however, be quite disparate, it therefore appeared reasonable to make predictions using different models in order to find the most accurate result.\n",
        "\n",
        "A summary of the obtained accuracies for each classification model, from most precise to least precise:\n",
        "1. Random Forest Classifier, result: 0.9821073558648111\n",
        "2. Linear SVC, result: 0.974155069582505\n",
        "3. SGD Classifier, result: 0.9662027833001988\n",
        "4. SVC, result: 0.9145129224652088\n",
        "5. Naive Bayes, result: 0.8489065606361829\n",
        "6. Sequential Neural Network, result: 0.8210735321044922\n",
        "7. KNeighbors Classifier, result: 0.705765407554672"
      ]
    },
    {
      "attachments": {},
      "cell_type": "markdown",
      "metadata": {},
      "source": [
        "Dataset source: https://db.idrblab.net/ttd/full-data-download"
      ]
    }
  ],
  "metadata": {
    "colab": {
      "provenance": []
    },
    "kernelspec": {
      "display_name": ".venv",
      "language": "python",
      "name": "python3"
    },
    "language_info": {
      "codemirror_mode": {
        "name": "ipython",
        "version": 3
      },
      "file_extension": ".py",
      "mimetype": "text/x-python",
      "name": "python",
      "nbconvert_exporter": "python",
      "pygments_lexer": "ipython3",
      "version": "3.10.5"
    },
    "orig_nbformat": 4,
    "vscode": {
      "interpreter": {
        "hash": "072d63d6d7ab3587f4955b1097238bfbd1a66f70208eb562cbd9f46f67409b14"
      }
    }
  },
  "nbformat": 4,
  "nbformat_minor": 0
}
